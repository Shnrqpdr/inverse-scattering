{
 "cells": [
  {
   "cell_type": "markdown",
   "metadata": {},
   "source": [
    "# Inverse scattering for circular billiard"
   ]
  },
  {
   "cell_type": "markdown",
   "metadata": {},
   "source": [
    "## Importação das bibliotecas"
   ]
  },
  {
   "cell_type": "code",
   "execution_count": 1,
   "metadata": {},
   "outputs": [],
   "source": [
    "import numpy as np\n",
    "import scipy\n",
    "import scipy.special as sc\n",
    "import pandas as pd"
   ]
  },
  {
   "cell_type": "markdown",
   "metadata": {},
   "source": [
    "## Declarações de variáveis\n"
   ]
  },
  {
   "cell_type": "code",
   "execution_count": 2,
   "metadata": {},
   "outputs": [
    {
     "name": "stdout",
     "output_type": "stream",
     "text": [
      "[0.02       0.12344828 0.22689655 0.33034483 0.4337931  0.53724138\n",
      " 0.64068966 0.74413793 0.84758621 0.95103448 1.05448276 1.15793103\n",
      " 1.26137931 1.36482759 1.46827586 1.57172414 1.67517241 1.77862069\n",
      " 1.88206897 1.98551724 2.08896552 2.19241379 2.29586207 2.39931034\n",
      " 2.50275862 2.6062069  2.70965517 2.81310345 2.91655172 3.02      ]\n"
     ]
    }
   ],
   "source": [
    "M = 1.0\n",
    "HBAR = 1.0\n",
    "i = 0 + 1j\n",
    "\n",
    "R = np.linspace(0.1, 2, 190)\n",
    "gamma = np.linspace(0.1, 3, 290)\n",
    "\n",
    "SIGMA = (-i/4.0)*(2*M/(HBAR**2))\n",
    "k_min = 0.02\n",
    "k_max = 3.02\n",
    "delta_k = (k_max - k_min)/30\n",
    "\n",
    "k = np.linspace(k_min, k_max, 30)\n",
    "\n",
    "n_min = -20\n",
    "n_max = 20\n",
    "print(k)\n"
   ]
  },
  {
   "cell_type": "markdown",
   "metadata": {},
   "source": [
    "## Cálculo do coeficiente"
   ]
  },
  {
   "cell_type": "code",
   "execution_count": 3,
   "metadata": {},
   "outputs": [],
   "source": [
    "def u_n(l, gamma, r, k):\n",
    "    coef = (2*np.pi*r*gamma*SIGMA*(sc.jv(l, k*r)**2))/(1 - 2*np.pi*r*gamma*SIGMA*(sc.jv(l, k*r))*(sc.hankel1(l, k*r)))\n",
    "\n",
    "    return coef"
   ]
  },
  {
   "cell_type": "markdown",
   "metadata": {},
   "source": [
    "## Cálculo da seção de choque"
   ]
  },
  {
   "cell_type": "code",
   "execution_count": 4,
   "metadata": {},
   "outputs": [],
   "source": [
    "n_array = np.arange(n_min, n_max + 1, 1)\n",
    "list_gamma = list(gamma)\n",
    "inputs_array = np.zeros((1, 30 + 9))\n",
    "\n",
    "for g in list_gamma:\n",
    "    # index = list_gamma.index(g)\n",
    "    for r in R:\n",
    "        l_array = np.array([])\n",
    "\n",
    "        for k_value in k:\n",
    "            soma = 0.0\n",
    "\n",
    "            for n in n_array:\n",
    "                soma = soma + np.real(u_n(n, g, r, k_value))\n",
    "                \n",
    "            it = (-4/k_value)*soma\n",
    "            l_array = np.append(l_array, it)\n",
    "\n",
    "        row_array = np.array([])\n",
    "        row_array = np.append(row_array, [M, HBAR, k_min, k_max, delta_k, n_min, n_max, g, r])\n",
    "        row_array = np.append(row_array, l_array)\n",
    "\n",
    "        inputs_array = np.vstack([inputs_array, row_array])"
   ]
  },
  {
   "cell_type": "code",
   "execution_count": 5,
   "metadata": {},
   "outputs": [
    {
     "data": {
      "text/plain": [
       "(551, 39)"
      ]
     },
     "execution_count": 5,
     "metadata": {},
     "output_type": "execute_result"
    }
   ],
   "source": [
    "# removendo a primeira linha de zeros\n",
    "inputs_array = np.delete(inputs_array, (0), axis=0)\n",
    "inputs_array.shape"
   ]
  },
  {
   "cell_type": "code",
   "execution_count": 6,
   "metadata": {},
   "outputs": [
    {
     "name": "stdout",
     "output_type": "stream",
     "text": [
      "     M  HBAR  k_min  k_max  delta_k  n_min  n_max  gamma         R      l_k1  \\\n",
      "0  1.0   1.0   0.02   3.02      0.1  -20.0   20.0    0.1  0.100000  0.155397   \n",
      "1  1.0   1.0   0.02   3.02      0.1  -20.0   20.0    0.1  0.205556  0.549201   \n",
      "2  1.0   1.0   0.02   3.02      0.1  -20.0   20.0    0.1  0.311111  1.085132   \n",
      "3  1.0   1.0   0.02   3.02      0.1  -20.0   20.0    0.1  0.416667  1.712245   \n",
      "4  1.0   1.0   0.02   3.02      0.1  -20.0   20.0    0.1  0.522222  2.400156   \n",
      "\n",
      "   ...     l_k21     l_k22     l_k23     l_k24     l_k25     l_k26     l_k27  \\\n",
      "0  ...  0.001695  0.001611  0.001535  0.001464  0.001399  0.001339  0.001283   \n",
      "1  ...  0.006205  0.005832  0.005488  0.005170  0.004876  0.004601  0.004345   \n",
      "2  ...  0.011593  0.010695  0.009872  0.009116  0.008422  0.007783  0.007196   \n",
      "3  ...  0.016077  0.014520  0.013127  0.011884  0.010780  0.009802  0.008940   \n",
      "4  ...  0.019064  0.017007  0.015257  0.013781  0.012549  0.011528  0.010690   \n",
      "\n",
      "      l_k28     l_k29     l_k30  \n",
      "0  0.001231  0.001182  0.001136  \n",
      "1  0.004106  0.003882  0.003672  \n",
      "2  0.006657  0.006161  0.005707  \n",
      "3  0.008184  0.007523  0.006950  \n",
      "4  0.010006  0.009450  0.008998  \n",
      "\n",
      "[5 rows x 39 columns]\n"
     ]
    }
   ],
   "source": [
    "# Nomes das primeiras 8 colunas\n",
    "initial_columns = ['M', 'HBAR', 'k_min', 'k_max', 'delta_k', 'n_min', 'n_max', 'gamma', 'R']\n",
    "\n",
    "# Nomes das outras 596 colunas\n",
    "l_k_columns = [f'l_k{i+1}' for i in range(30)]\n",
    "\n",
    "# Concatenando todos os nomes de colunas\n",
    "all_columns = initial_columns + l_k_columns\n",
    "\n",
    "# Convertendo a matriz para DataFrame\n",
    "df = pd.DataFrame(inputs_array, columns=all_columns)\n",
    "\n",
    "# Exibindo as primeiras linhas do DataFrame para verificação\n",
    "print(df.head())"
   ]
  },
  {
   "cell_type": "code",
   "execution_count": 8,
   "metadata": {},
   "outputs": [
    {
     "name": "stdout",
     "output_type": "stream",
     "text": [
      "DataFrame salvo\n"
     ]
    }
   ],
   "source": [
    "df.to_csv('../data/dados_reduzidos.csv', index=False)\n",
    "\n",
    "print(f\"DataFrame salvo\")"
   ]
  }
 ],
 "metadata": {
  "kernelspec": {
   "display_name": "inverse-scat",
   "language": "python",
   "name": "python3"
  },
  "language_info": {
   "codemirror_mode": {
    "name": "ipython",
    "version": 3
   },
   "file_extension": ".py",
   "mimetype": "text/x-python",
   "name": "python",
   "nbconvert_exporter": "python",
   "pygments_lexer": "ipython3",
   "version": "3.10.12"
  }
 },
 "nbformat": 4,
 "nbformat_minor": 2
}
